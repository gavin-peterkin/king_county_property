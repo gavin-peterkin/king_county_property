{
 "cells": [
  {
   "cell_type": "markdown",
   "metadata": {},
   "source": [
    "# King County Residential Property Values\n",
    "## First Draft\n",
    "Gavin Peterkin"
   ]
  },
  {
   "cell_type": "markdown",
   "metadata": {},
   "source": [
    "## Introduction\n",
    "\n",
    "Regardless of one's background or living situation, the housing market affects us all, but like most social and economic systems, it seems too complex to make any sense of. My aim in this project is to make use of the increasingly large public data sets made accessible by Seattle and King County to investigate the factors that influence a residential property's value over time. In effect, I seek to model and understand how features from 'number of bedrooms' to proximity to private schools and even to whether or not a property has a view of the Seattle skyline has any influence on that property's value and if so, by how much. Since tastes change over time, and I have access to sales data over a large period of time, I will also investigate how people's preferences are changing and extend that trend to the future to see what it _will_ mean for Seattle's booming housing market over the next couple of years.\n",
    "\n",
    "* Note: I was inspired partly by the [Kaggle home prices](https://www.kaggle.com/c/house-prices-advanced-regression-techniques) competition."
   ]
  },
  {
   "cell_type": "markdown",
   "metadata": {},
   "source": [
    "## Data Preparation Workflow\n",
    "\n",
    "First, I downloaded raw csv files from the sources listed below.\n",
    "\n",
    "### Data Sources\n",
    "1. [King County Assessor Data](http://info.kingcounty.gov/Assessor/DataDownload/default.aspx): Has many features from tax assessor data including: recent sales prices, assessed values, slope of terrain, etc.\n",
    "2. [King County GIS Center](http://www.kingcounty.gov/services/gis.aspx): Has parcel geographic information systems (GIS) data including: parcel location and shape for multiple property types\n",
    "3. [Seattle Open Data](https://data.seattle.gov/): Has Latitudes and Longitudes for things like schools, libraries, parks, etc.\n",
    "\n",
    "After downloading the files, I developed scripts in the Bourne Again Shell (BASH) and/or python to automate (or partially automate) the process of cleaning the files and putting them into a PostgreSQL (PSQL) database on a remote server. There are significant speed limitations as a result of using a remote database, but it also allows for easy extensibility in the future. As more data become available, it can simply be dumped in, and the model can be re-run.\n",
    "\n",
    "Another benefit of PSQL is that there's an actively developed extension [PostGIS](http://www.postgis.net/) that allows for the creation of spatially/geographically enabled databases. This allows for relatively fast spatial computations that would be prohibitively slow if done in python.\n",
    "\n",
    "For more detail about how I pushed the data to the database and the issues I encountered along the way, see the notebook `csvs_to_psql` and the bash scripts `file_prep.bash` and `shp_processor.bash`. Shape files are an unusual file type. Luckily Postgis has functionality to ease the transition to PSQL. Still, I encountered a myriad of problems along the way mostly dealing with incorrect data types. I tried to fix these as they arose, but it was challenging.\n",
    "\n",
    "### Feature Engineering\n",
    "Finally, I had to do a lot of filtering, joining, and spatial operations in sql to get the final residential table. (In the sql directory, see `queries.sql`.) I generated a lot of the sql in the query file in the notebook `sql_generator`. This is where I create features like 'number of private schools in an x-meter radius'. This has been an iterative process. I'm continually updating the complete residential table as I discover issues or more useful features to add."
   ]
  },
  {
   "cell_type": "markdown",
   "metadata": {},
   "source": [
    "## Exploratory Data Analysis Findings\n",
    "\n",
    "Please see the [exploratory analysis notebook](./exploratory_analysis.ipynb) for an overview of some of the initial findings."
   ]
  },
  {
   "cell_type": "markdown",
   "metadata": {},
   "source": [
    "## Feature Selection"
   ]
  },
  {
   "cell_type": "markdown",
   "metadata": {},
   "source": [
    "## Model Selection"
   ]
  }
 ],
 "metadata": {
  "anaconda-cloud": {},
  "kernelspec": {
   "display_name": "Python [Root]",
   "language": "python",
   "name": "Python [Root]"
  },
  "language_info": {
   "codemirror_mode": {
    "name": "ipython",
    "version": 3
   },
   "file_extension": ".py",
   "mimetype": "text/x-python",
   "name": "python",
   "nbconvert_exporter": "python",
   "pygments_lexer": "ipython3",
   "version": "3.5.2"
  }
 },
 "nbformat": 4,
 "nbformat_minor": 0
}
