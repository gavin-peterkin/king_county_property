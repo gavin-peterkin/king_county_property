{
 "cells": [
  {
   "cell_type": "markdown",
   "metadata": {
    "nbpresent": {
     "id": "96690aa6-f7ce-4c7a-a23b-11ed767a57da"
    },
    "slideshow": {
     "slide_type": "slide"
    }
   },
   "source": [
    "# King County Residential Property Values\n",
    "\n",
    "## Goal:\n",
    "Investigate features from the King County Assessor's data, King County GIS data, and data.seattle.gov to determine what factors influence a residential property's value as determined by recent sale's data.\n",
    "\n",
    "To what extent do different features positively or negatively influence a residential property's value?"
   ]
  },
  {
   "cell_type": "markdown",
   "metadata": {
    "nbpresent": {
     "id": "c49d77a5-3c10-46f7-b9a6-54bf7d1c80ca"
    },
    "slideshow": {
     "slide_type": "slide"
    }
   },
   "source": [
    "## Possible applications:\n",
    "* Determine the fair market value of your home before going to market\n",
    "* Validate or challenge tax assessor valuations\n",
    "* Study what factors influence home prices"
   ]
  },
  {
   "cell_type": "markdown",
   "metadata": {
    "nbpresent": {
     "id": "8dfdf68f-2468-4a75-a0e4-4908a206b3d8"
    },
    "slideshow": {
     "slide_type": "slide"
    }
   },
   "source": [
    "# Workflow:\n",
    "\n",
    "## Set up remote database\n",
    "Main advantage of Postgres with the `PostGIS` extension is that it has support for fast, large, and complicated spatial operations (i.e. how many (long/lat) points from this table fall within this radius for this property?)\n",
    "\n",
    "With ~500,000 residential properties and 1,000s of points (parks, schools, light rail) there are millions of distance and area calculations that need to be done. PostGIS is designed for it.\n",
    "\n",
    "Decided to host it on a server at home because I didn't want all the data on my computer, but the setup took forever, so it may have been a mistake. :("
   ]
  },
  {
   "cell_type": "markdown",
   "metadata": {
    "nbpresent": {
     "id": "a5dcb096-39f0-4ba2-914a-453bf2c62701"
    },
    "slideshow": {
     "slide_type": "slide"
    }
   },
   "source": [
    "## Data download\n",
    "Three different websites, about 30 csv files. Tried writing BASH scripts to automate dumping the tables in the database. I instead went with pandas' `to_sql` method, but it was terribly slow, so I had to research and use a monkey patch to allow multiple row insertions."
   ]
  },
  {
   "cell_type": "markdown",
   "metadata": {
    "nbpresent": {
     "id": "df8e1e16-3ec8-43cb-9dc5-72d580b95463"
    },
    "slideshow": {
     "slide_type": "slide"
    }
   },
   "source": [
    "## Joining and engineering _some_ features in sql\n",
    "* Now that everything is in the database, I've started joining things and mapping\n",
    "* Next major step is finding the number of \"x\" within several different buffers in sql\n",
    "* After that I'm going to look at how features influence the price individually and dump things that don't seem useful."
   ]
  },
  {
   "cell_type": "markdown",
   "metadata": {
    "nbpresent": {
     "id": "5cd6aa85-ee3e-4877-8f4f-2e633d9e8080"
    },
    "slideshow": {
     "slide_type": "slide"
    }
   },
   "source": [
    "## Taking a look at early results"
   ]
  }
 ],
 "metadata": {
  "anaconda-cloud": {},
  "celltoolbar": "Slideshow",
  "kernelspec": {
   "display_name": "Python [Root]",
   "language": "python",
   "name": "Python [Root]"
  },
  "language_info": {
   "codemirror_mode": {
    "name": "ipython",
    "version": 3
   },
   "file_extension": ".py",
   "mimetype": "text/x-python",
   "name": "python",
   "nbconvert_exporter": "python",
   "pygments_lexer": "ipython3",
   "version": "3.5.2"
  },
  "nbpresent": {
   "slides": {
    "0a4eeb60-b835-4462-b79e-1a984407238c": {
     "id": "0a4eeb60-b835-4462-b79e-1a984407238c",
     "prev": "6515b136-8bf0-4f61-8323-2b4b1bafe922",
     "regions": {
      "30338e86-6cf5-4985-a939-a05bba437b7b": {
       "attrs": {
        "height": 0.8,
        "width": 0.8,
        "x": 0.1,
        "y": 0.1
       },
       "content": {
        "cell": "a5dcb096-39f0-4ba2-914a-453bf2c62701",
        "part": "whole"
       },
       "id": "30338e86-6cf5-4985-a939-a05bba437b7b"
      }
     }
    },
    "0df68d5d-ffb8-402e-a42b-b8df02a7cc0a": {
     "id": "0df68d5d-ffb8-402e-a42b-b8df02a7cc0a",
     "prev": "f9aabd07-30bb-47bd-b04e-a3510e748c54",
     "regions": {
      "2eb55494-6d6c-4215-afb2-40d6406fab22": {
       "attrs": {
        "height": 0.8,
        "width": 0.8,
        "x": 0.1,
        "y": 0.1
       },
       "content": {
        "cell": "c49d77a5-3c10-46f7-b9a6-54bf7d1c80ca",
        "part": "whole"
       },
       "id": "2eb55494-6d6c-4215-afb2-40d6406fab22"
      }
     }
    },
    "4600ad72-c213-4fbb-bc71-17c074c7c3ba": {
     "id": "4600ad72-c213-4fbb-bc71-17c074c7c3ba",
     "prev": "9a3b2d6f-61f8-4826-aec5-fd093ed7f685",
     "regions": {
      "16c50c20-648d-44a6-8a44-67ee506205b0": {
       "attrs": {
        "height": 0.8,
        "width": 0.8,
        "x": 0.1,
        "y": 0.1
       },
       "content": {
        "cell": "5cd6aa85-ee3e-4877-8f4f-2e633d9e8080",
        "part": "whole"
       },
       "id": "16c50c20-648d-44a6-8a44-67ee506205b0"
      }
     }
    },
    "6515b136-8bf0-4f61-8323-2b4b1bafe922": {
     "id": "6515b136-8bf0-4f61-8323-2b4b1bafe922",
     "prev": "0df68d5d-ffb8-402e-a42b-b8df02a7cc0a",
     "regions": {
      "ed1e0d4e-7137-4303-992e-83ecf18b1611": {
       "attrs": {
        "height": 0.8,
        "width": 0.8,
        "x": 0.1,
        "y": 0.1
       },
       "content": {
        "cell": "8dfdf68f-2468-4a75-a0e4-4908a206b3d8",
        "part": "whole"
       },
       "id": "ed1e0d4e-7137-4303-992e-83ecf18b1611"
      }
     }
    },
    "9a3b2d6f-61f8-4826-aec5-fd093ed7f685": {
     "id": "9a3b2d6f-61f8-4826-aec5-fd093ed7f685",
     "prev": "0a4eeb60-b835-4462-b79e-1a984407238c",
     "regions": {
      "c83f66d8-0028-4815-96a0-6f5d972bfe6f": {
       "attrs": {
        "height": 0.8,
        "width": 0.8,
        "x": 0.1,
        "y": 0.1
       },
       "content": {
        "cell": "df8e1e16-3ec8-43cb-9dc5-72d580b95463",
        "part": "whole"
       },
       "id": "c83f66d8-0028-4815-96a0-6f5d972bfe6f"
      }
     }
    },
    "f9aabd07-30bb-47bd-b04e-a3510e748c54": {
     "id": "f9aabd07-30bb-47bd-b04e-a3510e748c54",
     "prev": null,
     "regions": {
      "05313f73-e33a-4c25-b277-aa761412ea1a": {
       "attrs": {
        "height": 0.8,
        "width": 0.8,
        "x": 0.1,
        "y": 0.1
       },
       "content": {
        "cell": "96690aa6-f7ce-4c7a-a23b-11ed767a57da",
        "part": "whole"
       },
       "id": "05313f73-e33a-4c25-b277-aa761412ea1a"
      }
     }
    }
   },
   "themes": {
    "default": "9b001962-7f03-495f-a949-16140a372cb8",
    "theme": {
     "9b001962-7f03-495f-a949-16140a372cb8": {
      "id": "9b001962-7f03-495f-a949-16140a372cb8",
      "palette": {
       "19cc588f-0593-49c9-9f4b-e4d7cc113b1c": {
        "id": "19cc588f-0593-49c9-9f4b-e4d7cc113b1c",
        "rgb": [
         252,
         252,
         252
        ]
       },
       "31af15d2-7e15-44c5-ab5e-e04b16a89eff": {
        "id": "31af15d2-7e15-44c5-ab5e-e04b16a89eff",
        "rgb": [
         68,
         68,
         68
        ]
       },
       "50f92c45-a630-455b-aec3-788680ec7410": {
        "id": "50f92c45-a630-455b-aec3-788680ec7410",
        "rgb": [
         155,
         177,
         192
        ]
       },
       "c5cc3653-2ee1-402a-aba2-7caae1da4f6c": {
        "id": "c5cc3653-2ee1-402a-aba2-7caae1da4f6c",
        "rgb": [
         43,
         126,
         184
        ]
       },
       "efa7f048-9acb-414c-8b04-a26811511a21": {
        "id": "efa7f048-9acb-414c-8b04-a26811511a21",
        "rgb": [
         25.118061674008803,
         73.60176211453744,
         107.4819383259912
        ]
       }
      },
      "rules": {
       "blockquote": {
        "color": "50f92c45-a630-455b-aec3-788680ec7410"
       },
       "code": {
        "font-family": "Anonymous Pro"
       },
       "h1": {
        "color": "c5cc3653-2ee1-402a-aba2-7caae1da4f6c",
        "font-family": "Lato",
        "font-size": 8
       },
       "h2": {
        "color": "c5cc3653-2ee1-402a-aba2-7caae1da4f6c",
        "font-family": "Lato",
        "font-size": 6
       },
       "h3": {
        "color": "50f92c45-a630-455b-aec3-788680ec7410",
        "font-family": "Lato",
        "font-size": 5.5
       },
       "h4": {
        "color": "c5cc3653-2ee1-402a-aba2-7caae1da4f6c",
        "font-family": "Lato",
        "font-size": 5
       },
       "h5": {
        "font-family": "Lato"
       },
       "h6": {
        "font-family": "Lato"
       },
       "h7": {
        "font-family": "Lato"
       },
       "pre": {
        "font-family": "Anonymous Pro",
        "font-size": 4
       }
      },
      "text-base": {
       "font-family": "Merriweather",
       "font-size": 4
      }
     }
    }
   }
  }
 },
 "nbformat": 4,
 "nbformat_minor": 0
}
