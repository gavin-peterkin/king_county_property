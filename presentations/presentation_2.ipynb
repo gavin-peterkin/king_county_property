{
 "cells": [
  {
   "cell_type": "markdown",
   "metadata": {
    "nbpresent": {
     "id": "4bf114d6-ccc5-4fe7-8c1f-0a6eb6652c6b"
    }
   },
   "source": [
    "# Final Presentation\n",
    "\n",
    "## King County Home Prices\n",
    "\n",
    "Gavin Peterkin"
   ]
  },
  {
   "cell_type": "markdown",
   "metadata": {
    "nbpresent": {
     "id": "cea45d3f-42d6-48ee-9779-4c0026be55ad"
    }
   },
   "source": [
    "# Recap\n",
    "\n",
    "1. Set up remote Postgres database with PostGIS extension\n",
    "2. Cleaned and joined data from the King County tax assessor, King County GIS, and Seattle open data site\n",
    "3. Engineered features that measure proximity to various local site of interest like public and private schools, light rail, etc"
   ]
  },
  {
   "cell_type": "markdown",
   "metadata": {
    "nbpresent": {
     "id": "b7203b50-ded0-4039-b003-d9e295431fe2"
    }
   },
   "source": [
    "# Exploratory Analysis Findings\n",
    "\n",
    "Take a quick look at the [EDA notebook](../notebooks/exploratory_analysis.ipynb).\n",
    "\n",
    "* There are a lot of homes for which the most recent sale price simply doesn't make sense (usually they're zero)\n",
    "* Most of the sales seemed to have occured in 1992 or later. This may be because that's when King County started to more thouroughly record sales data\n",
    "* Generally sales prices are pretty close to the assessed value, but for some properties they're nothing alike\n",
    "* I decided to restrict the study to sales that occured within the last 4 years\n",
    "* It makes no sense to use older prices when features like public and private school proximity probably weren't even valid in that time period"
   ]
  },
  {
   "cell_type": "markdown",
   "metadata": {
    "nbpresent": {
     "id": "cef42650-1932-4fda-9d46-e633f99d1ef6"
    }
   },
   "source": [
    "# Looking at features\n",
    "\n",
    "Take a quick look at the [feature_development notebook](../notebooks/feature_development.ipynb)."
   ]
  },
  {
   "cell_type": "markdown",
   "metadata": {
    "nbpresent": {
     "id": "d7a8a0fa-5d7a-4016-adc4-a12fccae3662"
    }
   },
   "source": [
    "# Modeling\n",
    "\n",
    "* Ridge and Lasso regressions use regularization techniques that eliminate useless features\n",
    "\n",
    "See [modeling notebook](../notebooks/modeling.ipynb)."
   ]
  },
  {
   "cell_type": "markdown",
   "metadata": {
    "nbpresent": {
     "id": "a9e4dbac-244a-4d2b-bb12-dce37e5c3fd1"
    }
   },
   "source": [
    "## Initial Conclusions\n",
    "\n",
    "* Don't reject the hypothesis that the housing features I ended up using influence sale price.\n",
    "* Where a house is located is probably the single most important factor in determining a home's value"
   ]
  },
  {
   "cell_type": "markdown",
   "metadata": {
    "nbpresent": {
     "id": "1f23ea5e-07d0-42cf-9ff1-c8d21b498c9f"
    }
   },
   "source": [
    "## Next steps and areas for improvement\n",
    "\n",
    "### New features\n",
    "There are a lot of characteristics that this model simply isn't capturing. New features like a neighborhood \"livability\" score, affordability characteristics, employment center proximity, traffic, and store proximity are all very reasonable features to include in the next iteration of the model. There are also additional features within the sql tables that could be useful.\n",
    "\n",
    "Utilizing latitude and longitude and clustering properties based on neighboring property's characteristics may be a less arbitrary way of dividing up \"neighborhoods\" into more meaningful, price-predictive classes.\n",
    "\n",
    "* I chose early on to not use assessed value as a feature because it's _so_ highly correlated with sales price, but it could be something to revisit in later iterations"
   ]
  },
  {
   "cell_type": "markdown",
   "metadata": {
    "nbpresent": {
     "id": "74194507-c247-4f7e-b10e-cd501b9cc7c5"
    }
   },
   "source": [
    "### Improve feature selection\n",
    "Using L1 and L2 regularization techniques via Lasso and Ridge regressions and selecting features by hand seems a little primitive. It also does a poor job of distinguishing features that are highly correlated. Using random forests (RF) to rank features in importance could be another useful step in determining which features are useful especially as more and more features are added. I can also reduce the dimensionality of highly correlated features and engineer new features like \"shopping score\" or \"employment score\" that could be more predictive of value."
   ]
  },
  {
   "cell_type": "markdown",
   "metadata": {
    "nbpresent": {
     "id": "8abecdf8-92d3-403a-84f1-967628836ca6"
    }
   },
   "source": [
    "### Model improvement\n",
    "None of the models are performing very well right now. Individually, they're all performing about the same--slightly better than null. I'll work on using ElasticNet and XGBoost next, and eventually I'll work on ensembling the best complimentary models."
   ]
  },
  {
   "cell_type": "markdown",
   "metadata": {
    "nbpresent": {
     "id": "7d3a48e0-2387-4f0f-8e6e-5fcfbc4452b3"
    }
   },
   "source": [
    "### Changing feature importance over time\n",
    "It would be fairly easy to model the importance of different features over time. The only difficulty would be in ensuring that I'm not using future features in the feature selection process."
   ]
  },
  {
   "cell_type": "markdown",
   "metadata": {},
   "source": [
    "# Questions and Comments"
   ]
  },
  {
   "cell_type": "code",
   "execution_count": null,
   "metadata": {
    "collapsed": true
   },
   "outputs": [],
   "source": []
  }
 ],
 "metadata": {
  "anaconda-cloud": {},
  "kernelspec": {
   "display_name": "Python [Root]",
   "language": "python",
   "name": "Python [Root]"
  },
  "language_info": {
   "codemirror_mode": {
    "name": "ipython",
    "version": 3
   },
   "file_extension": ".py",
   "mimetype": "text/x-python",
   "name": "python",
   "nbconvert_exporter": "python",
   "pygments_lexer": "ipython3",
   "version": "3.5.2"
  },
  "nbpresent": {
   "slides": {
    "12f53514-a5c7-4bd4-8fd4-34c887626d11": {
     "id": "12f53514-a5c7-4bd4-8fd4-34c887626d11",
     "prev": "78e95df2-ba82-4947-8877-8d687e5363a6",
     "regions": {
      "af0ba7d1-2a93-430a-84d0-f0877e50255f": {
       "attrs": {
        "height": 0.8,
        "width": 0.8,
        "x": 0.1,
        "y": 0.1
       },
       "content": {
        "cell": "e3c32062-9ad6-449f-a055-3458e9ee3447",
        "part": "whole"
       },
       "id": "af0ba7d1-2a93-430a-84d0-f0877e50255f"
      }
     }
    },
    "22fc9679-4cb3-4ad4-8af9-bd890514ba9e": {
     "id": "22fc9679-4cb3-4ad4-8af9-bd890514ba9e",
     "prev": "42d5db37-5594-4a82-a58e-cdf22ddb32a1",
     "regions": {
      "4f897d49-fe63-4158-841d-8ca83d60b52c": {
       "attrs": {
        "height": 0.8,
        "width": 0.8,
        "x": 0.1,
        "y": 0.1
       },
       "content": {
        "cell": "b7203b50-ded0-4039-b003-d9e295431fe2",
        "part": "whole"
       },
       "id": "4f897d49-fe63-4158-841d-8ca83d60b52c"
      }
     }
    },
    "412d415f-fd98-4ad8-a338-93150d597e3e": {
     "id": "412d415f-fd98-4ad8-a338-93150d597e3e",
     "prev": "4a154b7d-326f-461a-8f01-f738ce6876ab",
     "regions": {
      "f2ecede5-743f-48ff-bd2f-462a7aeab823": {
       "attrs": {
        "height": 0.8,
        "width": 0.8,
        "x": 0.1,
        "y": 0.1
       },
       "content": {
        "cell": "a9e4dbac-244a-4d2b-bb12-dce37e5c3fd1",
        "part": "whole"
       },
       "id": "f2ecede5-743f-48ff-bd2f-462a7aeab823"
      }
     }
    },
    "42d5db37-5594-4a82-a58e-cdf22ddb32a1": {
     "id": "42d5db37-5594-4a82-a58e-cdf22ddb32a1",
     "prev": "66c7004d-8a4e-421e-8071-7151c91b3cfd",
     "regions": {
      "aad53636-13a1-4c62-a178-58630f1a9621": {
       "attrs": {
        "height": 0.8,
        "width": 0.8,
        "x": 0.1,
        "y": 0.1
       },
       "content": {
        "cell": "cea45d3f-42d6-48ee-9779-4c0026be55ad",
        "part": "whole"
       },
       "id": "aad53636-13a1-4c62-a178-58630f1a9621"
      }
     }
    },
    "4a154b7d-326f-461a-8f01-f738ce6876ab": {
     "id": "4a154b7d-326f-461a-8f01-f738ce6876ab",
     "prev": "cbffbb1b-1497-44d8-a670-fa035537eb51",
     "regions": {
      "027cdb57-8424-4245-8a58-cc0fa1627aad": {
       "attrs": {
        "height": 0.8,
        "width": 0.8,
        "x": 0.1,
        "y": 0.1
       },
       "content": {
        "cell": "d7a8a0fa-5d7a-4016-adc4-a12fccae3662",
        "part": "whole"
       },
       "id": "027cdb57-8424-4245-8a58-cc0fa1627aad"
      }
     }
    },
    "66c7004d-8a4e-421e-8071-7151c91b3cfd": {
     "id": "66c7004d-8a4e-421e-8071-7151c91b3cfd",
     "prev": null,
     "regions": {
      "d091fb71-6665-4303-a211-c7916fa5a6ac": {
       "attrs": {
        "height": 0.8,
        "width": 0.8,
        "x": 0.1,
        "y": 0.1
       },
       "content": {
        "cell": "4bf114d6-ccc5-4fe7-8c1f-0a6eb6652c6b",
        "part": "whole"
       },
       "id": "d091fb71-6665-4303-a211-c7916fa5a6ac"
      }
     }
    },
    "78e95df2-ba82-4947-8877-8d687e5363a6": {
     "id": "78e95df2-ba82-4947-8877-8d687e5363a6",
     "prev": "b5141a40-cbc7-4849-b571-58caa5f4439b",
     "regions": {
      "99165c12-46c2-4880-9fce-7902fd0c5d47": {
       "attrs": {
        "height": 0.8,
        "width": 0.8,
        "x": 0.1,
        "y": 0.1
       },
       "content": {
        "cell": "7d3a48e0-2387-4f0f-8e6e-5fcfbc4452b3",
        "part": "whole"
       },
       "id": "99165c12-46c2-4880-9fce-7902fd0c5d47"
      }
     }
    },
    "b5141a40-cbc7-4849-b571-58caa5f4439b": {
     "id": "b5141a40-cbc7-4849-b571-58caa5f4439b",
     "prev": "d00656a1-5167-4a4c-be59-0fd8fdecb131",
     "regions": {
      "d1561293-bc35-4574-bab0-906d8f61880a": {
       "attrs": {
        "height": 0.8,
        "width": 0.8,
        "x": 0.1,
        "y": 0.1
       },
       "content": {
        "cell": "8abecdf8-92d3-403a-84f1-967628836ca6",
        "part": "whole"
       },
       "id": "d1561293-bc35-4574-bab0-906d8f61880a"
      }
     }
    },
    "b612b32c-79a2-4368-a035-c93e97a27e83": {
     "id": "b612b32c-79a2-4368-a035-c93e97a27e83",
     "prev": "412d415f-fd98-4ad8-a338-93150d597e3e",
     "regions": {
      "3bf0b743-549a-4edf-8ce1-7a2f3682b47a": {
       "attrs": {
        "height": 0.8,
        "width": 0.8,
        "x": 0.1,
        "y": 0.1
       },
       "content": {
        "cell": "1f23ea5e-07d0-42cf-9ff1-c8d21b498c9f",
        "part": "whole"
       },
       "id": "3bf0b743-549a-4edf-8ce1-7a2f3682b47a"
      }
     }
    },
    "cbffbb1b-1497-44d8-a670-fa035537eb51": {
     "id": "cbffbb1b-1497-44d8-a670-fa035537eb51",
     "prev": "22fc9679-4cb3-4ad4-8af9-bd890514ba9e",
     "regions": {
      "65bf641b-fd8b-4b13-b2c8-f6564d4ec968": {
       "attrs": {
        "height": 0.8,
        "width": 0.8,
        "x": 0.1,
        "y": 0.1
       },
       "content": {
        "cell": "cef42650-1932-4fda-9d46-e633f99d1ef6",
        "part": "whole"
       },
       "id": "65bf641b-fd8b-4b13-b2c8-f6564d4ec968"
      }
     }
    },
    "d00656a1-5167-4a4c-be59-0fd8fdecb131": {
     "id": "d00656a1-5167-4a4c-be59-0fd8fdecb131",
     "prev": "b612b32c-79a2-4368-a035-c93e97a27e83",
     "regions": {
      "76a58762-f9de-478b-bfc9-e2bff7906232": {
       "attrs": {
        "height": 0.8,
        "width": 0.8,
        "x": 0.1,
        "y": 0.1
       },
       "content": {
        "cell": "74194507-c247-4f7e-b10e-cd501b9cc7c5",
        "part": "whole"
       },
       "id": "76a58762-f9de-478b-bfc9-e2bff7906232"
      }
     }
    }
   },
   "themes": {}
  }
 },
 "nbformat": 4,
 "nbformat_minor": 0
}
